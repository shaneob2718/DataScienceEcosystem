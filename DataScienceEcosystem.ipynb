{
 "cells": [
  {
   "cell_type": "markdown",
   "id": "5da16687-1abe-45e2-bef2-ce2e11c53cea",
   "metadata": {},
   "source": [
    "# Data Science Tools and Ecosystem"
   ]
  },
  {
   "cell_type": "markdown",
   "id": "cc6d3955-2f8d-4371-a902-5a6d1d813028",
   "metadata": {},
   "source": [
    "In this notebook, Data Science Tools and Ecosystem are summarized."
   ]
  },
  {
   "cell_type": "markdown",
   "id": "671266a6-b8a3-42aa-af4d-579e7449f9a7",
   "metadata": {},
   "source": [
    "### **Objectives**:\n",
    "- List popular languages for Data Science\n",
    "- Explore commonly used libraries in Data Science\n",
    "- Discuss open-source tools for Data Science development"
   ]
  },
  {
   "cell_type": "markdown",
   "id": "ecda58ac-18d1-4848-ad57-63ca0370b06e",
   "metadata": {},
   "source": [
    "Some of the popular languages that Data Scientists use are:\n",
    "1. Python\n",
    "2.  R"
   ]
  },
  {
   "cell_type": "markdown",
   "id": "9ba73757-08c6-4a38-a521-fb9661adb72d",
   "metadata": {},
   "source": [
    "Some of the commonly used libraries used by Data Scientists include:\n",
    "1. Seaborn\n",
    "2. MatPlotLib\n",
    "3. pandas"
   ]
  },
  {
   "cell_type": "markdown",
   "id": "ba232106-cad3-458d-bdaf-17f2daeab96b",
   "metadata": {},
   "source": [
    "| Data Science Tools | \n",
    "|----------|\n",
    "| Jupyter Notebook   |\n",
    "| RStudio   |\n",
    "| Apache Zeppelin |"
   ]
  },
  {
   "cell_type": "markdown",
   "id": "fc0678f0-7385-4f30-a733-e5acc0a493bf",
   "metadata": {},
   "source": [
    "### Below are a few examples of evaluating arithmetic expressions in Python."
   ]
  },
  {
   "cell_type": "code",
   "execution_count": 10,
   "id": "d4e8cd5e-378f-4b55-b970-7d78715d8db6",
   "metadata": {},
   "outputs": [
    {
     "name": "stdout",
     "output_type": "stream",
     "text": [
      "3\n"
     ]
    }
   ],
   "source": [
    "print(1+2)"
   ]
  },
  {
   "cell_type": "code",
   "execution_count": 14,
   "id": "bc033bdc-5a44-472d-a83e-5e8456b1bad0",
   "metadata": {},
   "outputs": [
    {
     "name": "stdout",
     "output_type": "stream",
     "text": [
      "4\n",
      "5\n",
      "5\n"
     ]
    }
   ],
   "source": [
    "x=1\n",
    "y=5\n",
    "print(y-x)\n",
    "print(x*y)\n",
    "print(y**x)"
   ]
  },
  {
   "cell_type": "code",
   "execution_count": 22,
   "id": "40998415-ce43-403b-bb7a-bee6f6e9bde0",
   "metadata": {},
   "outputs": [
    {
     "name": "stdout",
     "output_type": "stream",
     "text": [
      "17\n"
     ]
    }
   ],
   "source": [
    "# This a simple arithmetic expression to mutiply then add integers\n",
    "print((3*4)+5)"
   ]
  },
  {
   "cell_type": "code",
   "execution_count": 26,
   "id": "636055c7-d643-40f1-8298-1ea28c1cd8b3",
   "metadata": {},
   "outputs": [
    {
     "name": "stdout",
     "output_type": "stream",
     "text": [
      "3.3333333333333335\n"
     ]
    }
   ],
   "source": [
    "time_min = 200\n",
    "time_hour = time_min * (1/60)\n",
    "print(time_hour)"
   ]
  },
  {
   "cell_type": "markdown",
   "id": "75fbfbfc-cf31-484f-ac23-1bf673407c3b",
   "metadata": {},
   "source": [
    "## Author:\n",
    "Shane O'Brien"
   ]
  }
 ],
 "metadata": {
  "kernelspec": {
   "display_name": "Python 3 (ipykernel)",
   "language": "python",
   "name": "python3"
  },
  "language_info": {
   "codemirror_mode": {
    "name": "ipython",
    "version": 3
   },
   "file_extension": ".py",
   "mimetype": "text/x-python",
   "name": "python",
   "nbconvert_exporter": "python",
   "pygments_lexer": "ipython3",
   "version": "3.11.7"
  }
 },
 "nbformat": 4,
 "nbformat_minor": 5
}
